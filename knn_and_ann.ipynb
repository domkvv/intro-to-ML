{
 "cells": [
  {
   "cell_type": "markdown",
   "metadata": {},
   "source": [
    "# Metody oparte o sąsiedztwo"
   ]
  },
  {
   "cell_type": "markdown",
   "metadata": {},
   "source": [
    "## Konfiguracja"
   ]
  },
  {
   "cell_type": "markdown",
   "metadata": {},
   "source": [
    "Laboratorium składa się z 2 części:\n",
    "1. kNN w uczeniu nadzorowanym\n",
    "2. Wyszukiwanie\n",
    "\n",
    "W pierwszej części użyjemy standardowych bibliotek oraz dodatkowo:\n",
    "- `pynndescent` dla approximate nearest neighbors (ANN)\n",
    "- `pyarrow` do odczytu zbioru danych w formacie Parquet\n",
    "\n",
    "W drugiej części natomiast do wektoryzacji obiektów użyjemy stosu do uczenia głębokiego opartego o PyTorcha i torchvision. Dodatkowo użyjemy:\n",
    "- `sentence-transformers` - podobna do popularnej biblioteki Transformers, ale obsługuje głównie modele do uczenia nienadzorowanego, niewymagające fine-tuningu\n",
    "- `tqdm` dla wyświetlania progress bar\n",
    "\n",
    "**Uwaga:** trzeba użyć wersji Numpy'a 1.23.X, bo wersja 1.24 wprowadziła dużo breaking changes i inne biblioteki (np. PyNNDescent) jeszcze nie są zaktualizowane.\n",
    "\n",
    "PyTorcha i torchvision zainstaluj [w wersji odpowiedniej dla twojego systemu i środowiska](https://pytorch.org/get-started/locally/). GPU nie będzie nam potrzebne, ale możesz go użyć, jeżeli jest odpowiednio skonfigurowane."
   ]
  },
  {
   "cell_type": "code",
   "execution_count": 1,
   "metadata": {
    "scrolled": true
   },
   "outputs": [],
   "source": [
    "# !pip install numpy==1.23.5 pandas matplotlib scikit-learn missingno pyarrow pynndescent sentence-transformers tqdm"
   ]
  },
  {
   "cell_type": "code",
   "execution_count": 2,
   "metadata": {
    "scrolled": true
   },
   "outputs": [],
   "source": [
    "# !pip install torch torchvision --extra-index-url https://download.pytorch.org/whl/cpu"
   ]
  },
  {
   "cell_type": "code",
   "execution_count": 3,
   "metadata": {},
   "outputs": [],
   "source": [
    "import matplotlib.pyplot as plt\n",
    "import numpy as np\n",
    "import pandas as pd"
   ]
  },
  {
   "cell_type": "markdown",
   "metadata": {},
   "source": [
    "## Zbiór danych - klasyfikacja danych numerycznych"
   ]
  },
  {
   "cell_type": "markdown",
   "metadata": {},
   "source": [
    "Wykorzystamy zbiór danych [Codon usage](https://archive.ics.uci.edu/ml/datasets/Codon+usage) z dziedziny bioinformatyki. Został on zaprezentowany w artykule ([link do wersji Open Access](https://www.nature.com/articles/s41598-023-28965-7):\n",
    "\n",
    "Hallee, Logan, and Bohdan B. Khomtchouk. *\"Machine learning classifiers predict key genomic and evolutionary traits across the kingdoms of life.\"* Scientific Reports 13.1 (2023): 2088. [link](https://www.nature.com/articles/s41598-023-28965-7)\n",
    "\n",
    "Autorzy wykonywali na nim wiele analiz, ale nas interesuje podstawowa - przewidywanie, z jakiego królestwa (kingdom) pochodzi komórka, na podstawie rozkładu kodonów w jej sekwencjonowanym RNA. Analiza DNA oraz RNA jest podstawowym zadaniem bioinformatyki. Kodony (codons) to trójki nukleotydów, np. UGC, i większość zapisuje pewien aminokwas (z wyjątkiem trzech kodonów stopu), który jest wykorzystywany w syntezie białek.\n",
    "\n",
    "Problem jest taki, że w praktyce trzeba sekwencjonować DNA/RNA z wielu komórek, więc trzeba je namnożyć w laboratorium. Niestety nie da się uzyskać idealnej czystości, i zawsze jest szansa, że próbka zostanie zanieczyszczona, np. bakteriami. Wtedy oprócz interesujących nas komórek (np. zwierzęcych) otrzymamy inne, których trzeba się pozbyć przed dalszą analizą. Tutaj właśnie wchodzi ML - dokonamy klasyfikacji, z jakiego królestwa (a właściwie domeny) pochodzi kod RNA, żeby pomóc w takich sytuacjach.\n",
    "\n",
    "Dla uproszczenia, autorzy, zamiast klasyfikować królestwo, klasyfikują [domenę](https://pl.wikipedia.org/wiki/Domena_(biologia)) organizmu. Są to jednostki o poziom wyżej w systematyce taksonomicznej. Do tego dokładamy wirusy i bakteriofagi. Mamy zatem klasy:\n",
    "1. Archaea ([archeony](https://pl.wikipedia.org/wiki/Archeony))\n",
    "2. Bacteria ([bakterie](https://pl.wikipedia.org/wiki/Bakterie))\n",
    "3. Eukariota ([eukarionty](https://pl.wikipedia.org/wiki/Eukarionty)) - między innymi ludzie\n",
    "4. Viruses ([wirusy](https://pl.wikipedia.org/wiki/Wirusy)) - nie są organizmami żywymi, więc nie są częścią typowej taksonomii, ale są ważne w badaniach mikrobiologicznych\n",
    "5. Bacteriophages ([bakteriofagi](https://pl.wikipedia.org/wiki/Bakteriofag)) - rodzaj wirusów atakujących tylko bakterie, używane m.in. [w badaniach nad mikrobiomem jelitowym](https://kids.frontiersin.org/articles/10.3389/frym.2019.00146)\n",
    "\n",
    "Szczegółowy opis zbioru znajduje się [na stronie UCI](https://archive.ics.uci.edu/ml/datasets/Codon+usage). W skrócie:\n",
    "1. `Kingdom` - królestwo, z którego pochodzi komórka. Podział jest tutaj dość szczegółowy, ale organizmy te można pogrupować w praktyce na bakterie (bacteria), wirusy (viruses) i eukarionty (eukariota).\n",
    "2. `DNAtype` - używana w innych analizach w artykule.\n",
    "3. `SpeciesID` - numer gatunku.\n",
    "4. `Ncodons` - liczba kodonów zmierzona dla danej komórki.\n",
    "5. `SpeciesName` - nazwa gatunku.\n",
    "\n",
    "Dalsze kolumny to znormalizowany ułamek kodonów poszczególnych typów w RNA danej komórki. W związku z tym, że dane są już znormalizowane, nie ma potrzeby ich skalowania."
   ]
  },
  {
   "cell_type": "code",
   "execution_count": 4,
   "metadata": {},
   "outputs": [
    {
     "name": "stderr",
     "output_type": "stream",
     "text": [
      "/tmp/ipykernel_15077/2756931748.py:1: DtypeWarning: Columns (5,6) have mixed types. Specify dtype option on import or set low_memory=False.\n",
      "  df = pd.read_csv(\"codon_usage.csv\")\n"
     ]
    },
    {
     "data": {
      "text/html": [
       "<div>\n",
       "<style scoped>\n",
       "    .dataframe tbody tr th:only-of-type {\n",
       "        vertical-align: middle;\n",
       "    }\n",
       "\n",
       "    .dataframe tbody tr th {\n",
       "        vertical-align: top;\n",
       "    }\n",
       "\n",
       "    .dataframe thead th {\n",
       "        text-align: right;\n",
       "    }\n",
       "</style>\n",
       "<table border=\"1\" class=\"dataframe\">\n",
       "  <thead>\n",
       "    <tr style=\"text-align: right;\">\n",
       "      <th></th>\n",
       "      <th>Kingdom</th>\n",
       "      <th>DNAtype</th>\n",
       "      <th>SpeciesID</th>\n",
       "      <th>Ncodons</th>\n",
       "      <th>SpeciesName</th>\n",
       "      <th>UUU</th>\n",
       "      <th>UUC</th>\n",
       "      <th>UUA</th>\n",
       "      <th>UUG</th>\n",
       "      <th>CUU</th>\n",
       "      <th>...</th>\n",
       "      <th>CGG</th>\n",
       "      <th>AGA</th>\n",
       "      <th>AGG</th>\n",
       "      <th>GAU</th>\n",
       "      <th>GAC</th>\n",
       "      <th>GAA</th>\n",
       "      <th>GAG</th>\n",
       "      <th>UAA</th>\n",
       "      <th>UAG</th>\n",
       "      <th>UGA</th>\n",
       "    </tr>\n",
       "  </thead>\n",
       "  <tbody>\n",
       "    <tr>\n",
       "      <th>0</th>\n",
       "      <td>vrl</td>\n",
       "      <td>0</td>\n",
       "      <td>100217</td>\n",
       "      <td>1995</td>\n",
       "      <td>Epizootic haematopoietic necrosis virus</td>\n",
       "      <td>0.01654</td>\n",
       "      <td>0.01203</td>\n",
       "      <td>0.00050</td>\n",
       "      <td>0.00351</td>\n",
       "      <td>0.01203</td>\n",
       "      <td>...</td>\n",
       "      <td>0.00451</td>\n",
       "      <td>0.01303</td>\n",
       "      <td>0.03559</td>\n",
       "      <td>0.01003</td>\n",
       "      <td>0.04612</td>\n",
       "      <td>0.01203</td>\n",
       "      <td>0.04361</td>\n",
       "      <td>0.00251</td>\n",
       "      <td>0.00050</td>\n",
       "      <td>0.00000</td>\n",
       "    </tr>\n",
       "    <tr>\n",
       "      <th>1</th>\n",
       "      <td>vrl</td>\n",
       "      <td>0</td>\n",
       "      <td>100220</td>\n",
       "      <td>1474</td>\n",
       "      <td>Bohle iridovirus</td>\n",
       "      <td>0.02714</td>\n",
       "      <td>0.01357</td>\n",
       "      <td>0.00068</td>\n",
       "      <td>0.00678</td>\n",
       "      <td>0.00407</td>\n",
       "      <td>...</td>\n",
       "      <td>0.00136</td>\n",
       "      <td>0.01696</td>\n",
       "      <td>0.03596</td>\n",
       "      <td>0.01221</td>\n",
       "      <td>0.04545</td>\n",
       "      <td>0.01560</td>\n",
       "      <td>0.04410</td>\n",
       "      <td>0.00271</td>\n",
       "      <td>0.00068</td>\n",
       "      <td>0.00000</td>\n",
       "    </tr>\n",
       "    <tr>\n",
       "      <th>2</th>\n",
       "      <td>vrl</td>\n",
       "      <td>0</td>\n",
       "      <td>100755</td>\n",
       "      <td>4862</td>\n",
       "      <td>Sweet potato leaf curl virus</td>\n",
       "      <td>0.01974</td>\n",
       "      <td>0.0218</td>\n",
       "      <td>0.01357</td>\n",
       "      <td>0.01543</td>\n",
       "      <td>0.00782</td>\n",
       "      <td>...</td>\n",
       "      <td>0.00596</td>\n",
       "      <td>0.01974</td>\n",
       "      <td>0.02489</td>\n",
       "      <td>0.03126</td>\n",
       "      <td>0.02036</td>\n",
       "      <td>0.02242</td>\n",
       "      <td>0.02468</td>\n",
       "      <td>0.00391</td>\n",
       "      <td>0.00000</td>\n",
       "      <td>0.00144</td>\n",
       "    </tr>\n",
       "    <tr>\n",
       "      <th>3</th>\n",
       "      <td>vrl</td>\n",
       "      <td>0</td>\n",
       "      <td>100880</td>\n",
       "      <td>1915</td>\n",
       "      <td>Northern cereal mosaic virus</td>\n",
       "      <td>0.01775</td>\n",
       "      <td>0.02245</td>\n",
       "      <td>0.01619</td>\n",
       "      <td>0.00992</td>\n",
       "      <td>0.01567</td>\n",
       "      <td>...</td>\n",
       "      <td>0.00366</td>\n",
       "      <td>0.01410</td>\n",
       "      <td>0.01671</td>\n",
       "      <td>0.03760</td>\n",
       "      <td>0.01932</td>\n",
       "      <td>0.03029</td>\n",
       "      <td>0.03446</td>\n",
       "      <td>0.00261</td>\n",
       "      <td>0.00157</td>\n",
       "      <td>0.00000</td>\n",
       "    </tr>\n",
       "    <tr>\n",
       "      <th>4</th>\n",
       "      <td>vrl</td>\n",
       "      <td>0</td>\n",
       "      <td>100887</td>\n",
       "      <td>22831</td>\n",
       "      <td>Soil-borne cereal mosaic virus</td>\n",
       "      <td>0.02816</td>\n",
       "      <td>0.01371</td>\n",
       "      <td>0.00767</td>\n",
       "      <td>0.03679</td>\n",
       "      <td>0.01380</td>\n",
       "      <td>...</td>\n",
       "      <td>0.00604</td>\n",
       "      <td>0.01494</td>\n",
       "      <td>0.01734</td>\n",
       "      <td>0.04148</td>\n",
       "      <td>0.02483</td>\n",
       "      <td>0.03359</td>\n",
       "      <td>0.03679</td>\n",
       "      <td>0.00000</td>\n",
       "      <td>0.00044</td>\n",
       "      <td>0.00131</td>\n",
       "    </tr>\n",
       "    <tr>\n",
       "      <th>...</th>\n",
       "      <td>...</td>\n",
       "      <td>...</td>\n",
       "      <td>...</td>\n",
       "      <td>...</td>\n",
       "      <td>...</td>\n",
       "      <td>...</td>\n",
       "      <td>...</td>\n",
       "      <td>...</td>\n",
       "      <td>...</td>\n",
       "      <td>...</td>\n",
       "      <td>...</td>\n",
       "      <td>...</td>\n",
       "      <td>...</td>\n",
       "      <td>...</td>\n",
       "      <td>...</td>\n",
       "      <td>...</td>\n",
       "      <td>...</td>\n",
       "      <td>...</td>\n",
       "      <td>...</td>\n",
       "      <td>...</td>\n",
       "      <td>...</td>\n",
       "    </tr>\n",
       "    <tr>\n",
       "      <th>13023</th>\n",
       "      <td>pri</td>\n",
       "      <td>0</td>\n",
       "      <td>9601</td>\n",
       "      <td>1097</td>\n",
       "      <td>Pongo pygmaeus abelii</td>\n",
       "      <td>0.02552</td>\n",
       "      <td>0.03555</td>\n",
       "      <td>0.00547</td>\n",
       "      <td>0.01367</td>\n",
       "      <td>0.01276</td>\n",
       "      <td>...</td>\n",
       "      <td>0.00820</td>\n",
       "      <td>0.01367</td>\n",
       "      <td>0.01094</td>\n",
       "      <td>0.01367</td>\n",
       "      <td>0.02279</td>\n",
       "      <td>0.02005</td>\n",
       "      <td>0.04102</td>\n",
       "      <td>0.00091</td>\n",
       "      <td>0.00091</td>\n",
       "      <td>0.00638</td>\n",
       "    </tr>\n",
       "    <tr>\n",
       "      <th>13024</th>\n",
       "      <td>pri</td>\n",
       "      <td>1</td>\n",
       "      <td>9601</td>\n",
       "      <td>2067</td>\n",
       "      <td>mitochondrion Pongo pygmaeus abelii</td>\n",
       "      <td>0.01258</td>\n",
       "      <td>0.03193</td>\n",
       "      <td>0.01984</td>\n",
       "      <td>0.00629</td>\n",
       "      <td>0.01451</td>\n",
       "      <td>...</td>\n",
       "      <td>0.00145</td>\n",
       "      <td>0.00000</td>\n",
       "      <td>0.00048</td>\n",
       "      <td>0.00194</td>\n",
       "      <td>0.01306</td>\n",
       "      <td>0.01838</td>\n",
       "      <td>0.00677</td>\n",
       "      <td>0.00242</td>\n",
       "      <td>0.00097</td>\n",
       "      <td>0.01887</td>\n",
       "    </tr>\n",
       "    <tr>\n",
       "      <th>13025</th>\n",
       "      <td>pri</td>\n",
       "      <td>1</td>\n",
       "      <td>9602</td>\n",
       "      <td>1686</td>\n",
       "      <td>mitochondrion Pongo pygmaeus pygmaeus</td>\n",
       "      <td>0.01423</td>\n",
       "      <td>0.03321</td>\n",
       "      <td>0.01661</td>\n",
       "      <td>0.00356</td>\n",
       "      <td>0.01127</td>\n",
       "      <td>...</td>\n",
       "      <td>0.00000</td>\n",
       "      <td>0.00000</td>\n",
       "      <td>0.00000</td>\n",
       "      <td>0.00178</td>\n",
       "      <td>0.01661</td>\n",
       "      <td>0.02788</td>\n",
       "      <td>0.00297</td>\n",
       "      <td>0.00356</td>\n",
       "      <td>0.00119</td>\n",
       "      <td>0.02017</td>\n",
       "    </tr>\n",
       "    <tr>\n",
       "      <th>13026</th>\n",
       "      <td>pri</td>\n",
       "      <td>0</td>\n",
       "      <td>9606</td>\n",
       "      <td>40662582</td>\n",
       "      <td>Homo sapiens</td>\n",
       "      <td>0.01757</td>\n",
       "      <td>0.02028</td>\n",
       "      <td>0.00767</td>\n",
       "      <td>0.01293</td>\n",
       "      <td>0.01319</td>\n",
       "      <td>...</td>\n",
       "      <td>0.01142</td>\n",
       "      <td>0.01217</td>\n",
       "      <td>0.01196</td>\n",
       "      <td>0.02178</td>\n",
       "      <td>0.02510</td>\n",
       "      <td>0.02896</td>\n",
       "      <td>0.03959</td>\n",
       "      <td>0.00099</td>\n",
       "      <td>0.00079</td>\n",
       "      <td>0.00156</td>\n",
       "    </tr>\n",
       "    <tr>\n",
       "      <th>13027</th>\n",
       "      <td>pri</td>\n",
       "      <td>1</td>\n",
       "      <td>9606</td>\n",
       "      <td>8998998</td>\n",
       "      <td>mitochondrion Homo sapiens</td>\n",
       "      <td>0.01778</td>\n",
       "      <td>0.03724</td>\n",
       "      <td>0.01732</td>\n",
       "      <td>0.00600</td>\n",
       "      <td>0.01689</td>\n",
       "      <td>...</td>\n",
       "      <td>0.00083</td>\n",
       "      <td>0.00041</td>\n",
       "      <td>0.00041</td>\n",
       "      <td>0.00451</td>\n",
       "      <td>0.01402</td>\n",
       "      <td>0.01651</td>\n",
       "      <td>0.00783</td>\n",
       "      <td>0.00156</td>\n",
       "      <td>0.00114</td>\n",
       "      <td>0.02161</td>\n",
       "    </tr>\n",
       "  </tbody>\n",
       "</table>\n",
       "<p>13028 rows × 69 columns</p>\n",
       "</div>"
      ],
      "text/plain": [
       "      Kingdom  DNAtype  SpeciesID   Ncodons  \\\n",
       "0         vrl        0     100217      1995   \n",
       "1         vrl        0     100220      1474   \n",
       "2         vrl        0     100755      4862   \n",
       "3         vrl        0     100880      1915   \n",
       "4         vrl        0     100887     22831   \n",
       "...       ...      ...        ...       ...   \n",
       "13023     pri        0       9601      1097   \n",
       "13024     pri        1       9601      2067   \n",
       "13025     pri        1       9602      1686   \n",
       "13026     pri        0       9606  40662582   \n",
       "13027     pri        1       9606   8998998   \n",
       "\n",
       "                                   SpeciesName      UUU      UUC      UUA  \\\n",
       "0      Epizootic haematopoietic necrosis virus  0.01654  0.01203  0.00050   \n",
       "1                             Bohle iridovirus  0.02714  0.01357  0.00068   \n",
       "2                 Sweet potato leaf curl virus  0.01974   0.0218  0.01357   \n",
       "3                 Northern cereal mosaic virus  0.01775  0.02245  0.01619   \n",
       "4               Soil-borne cereal mosaic virus  0.02816  0.01371  0.00767   \n",
       "...                                        ...      ...      ...      ...   \n",
       "13023                    Pongo pygmaeus abelii  0.02552  0.03555  0.00547   \n",
       "13024      mitochondrion Pongo pygmaeus abelii  0.01258  0.03193  0.01984   \n",
       "13025    mitochondrion Pongo pygmaeus pygmaeus  0.01423  0.03321  0.01661   \n",
       "13026                             Homo sapiens  0.01757  0.02028  0.00767   \n",
       "13027               mitochondrion Homo sapiens  0.01778  0.03724  0.01732   \n",
       "\n",
       "           UUG      CUU  ...      CGG      AGA      AGG      GAU      GAC  \\\n",
       "0      0.00351  0.01203  ...  0.00451  0.01303  0.03559  0.01003  0.04612   \n",
       "1      0.00678  0.00407  ...  0.00136  0.01696  0.03596  0.01221  0.04545   \n",
       "2      0.01543  0.00782  ...  0.00596  0.01974  0.02489  0.03126  0.02036   \n",
       "3      0.00992  0.01567  ...  0.00366  0.01410  0.01671  0.03760  0.01932   \n",
       "4      0.03679  0.01380  ...  0.00604  0.01494  0.01734  0.04148  0.02483   \n",
       "...        ...      ...  ...      ...      ...      ...      ...      ...   \n",
       "13023  0.01367  0.01276  ...  0.00820  0.01367  0.01094  0.01367  0.02279   \n",
       "13024  0.00629  0.01451  ...  0.00145  0.00000  0.00048  0.00194  0.01306   \n",
       "13025  0.00356  0.01127  ...  0.00000  0.00000  0.00000  0.00178  0.01661   \n",
       "13026  0.01293  0.01319  ...  0.01142  0.01217  0.01196  0.02178  0.02510   \n",
       "13027  0.00600  0.01689  ...  0.00083  0.00041  0.00041  0.00451  0.01402   \n",
       "\n",
       "           GAA      GAG      UAA      UAG      UGA  \n",
       "0      0.01203  0.04361  0.00251  0.00050  0.00000  \n",
       "1      0.01560  0.04410  0.00271  0.00068  0.00000  \n",
       "2      0.02242  0.02468  0.00391  0.00000  0.00144  \n",
       "3      0.03029  0.03446  0.00261  0.00157  0.00000  \n",
       "4      0.03359  0.03679  0.00000  0.00044  0.00131  \n",
       "...        ...      ...      ...      ...      ...  \n",
       "13023  0.02005  0.04102  0.00091  0.00091  0.00638  \n",
       "13024  0.01838  0.00677  0.00242  0.00097  0.01887  \n",
       "13025  0.02788  0.00297  0.00356  0.00119  0.02017  \n",
       "13026  0.02896  0.03959  0.00099  0.00079  0.00156  \n",
       "13027  0.01651  0.00783  0.00156  0.00114  0.02161  \n",
       "\n",
       "[13028 rows x 69 columns]"
      ]
     },
     "execution_count": 4,
     "metadata": {},
     "output_type": "execute_result"
    }
   ],
   "source": [
    "df = pd.read_csv(\"codon_usage.csv\")\n",
    "df"
   ]
  },
  {
   "cell_type": "markdown",
   "metadata": {},
   "source": [
    "Mamy warning co do typu - niedobrze. Sprawdźmy typy:"
   ]
  },
  {
   "cell_type": "code",
   "execution_count": 5,
   "metadata": {},
   "outputs": [
    {
     "data": {
      "text/plain": [
       "Kingdom         object\n",
       "DNAtype          int64\n",
       "SpeciesID        int64\n",
       "Ncodons          int64\n",
       "SpeciesName     object\n",
       "UUU             object\n",
       "UUC             object\n",
       "UUA            float64\n",
       "UUG            float64\n",
       "CUU            float64\n",
       "CUC            float64\n",
       "CUA            float64\n",
       "CUG            float64\n",
       "AUU            float64\n",
       "AUC            float64\n",
       "AUA            float64\n",
       "AUG            float64\n",
       "GUU            float64\n",
       "GUC            float64\n",
       "GUA            float64\n",
       "dtype: object"
      ]
     },
     "execution_count": 5,
     "metadata": {},
     "output_type": "execute_result"
    }
   ],
   "source": [
    "df.dtypes.head(20)"
   ]
  },
  {
   "cell_type": "markdown",
   "metadata": {},
   "source": [
    "Kolumny `UUU` i `UUC` powinny być floatami - niedobrze. Na szczęście to tylko literówka w jednym wierszu, co można sprawdzić w danych. Usuniemy ją po prostu."
   ]
  },
  {
   "cell_type": "code",
   "execution_count": 6,
   "metadata": {},
   "outputs": [
    {
     "data": {
      "text/plain": [
       "Kingdom         object\n",
       "DNAtype          int64\n",
       "SpeciesID        int64\n",
       "Ncodons          int64\n",
       "SpeciesName     object\n",
       "UUU            float64\n",
       "UUC            float64\n",
       "UUA            float64\n",
       "UUG            float64\n",
       "CUU            float64\n",
       "CUC            float64\n",
       "CUA            float64\n",
       "CUG            float64\n",
       "AUU            float64\n",
       "AUC            float64\n",
       "AUA            float64\n",
       "AUG            float64\n",
       "GUU            float64\n",
       "GUC            float64\n",
       "GUA            float64\n",
       "dtype: object"
      ]
     },
     "execution_count": 6,
     "metadata": {},
     "output_type": "execute_result"
    }
   ],
   "source": [
    "df = df[pd.to_numeric(df[\"UUU\"], errors=\"coerce\").notnull()].copy()\n",
    "\n",
    "df = df.copy()  # to avoid irritating SettingWithCopyWarning\n",
    "\n",
    "df[\"UUU\"] = df.loc[:, \"UUU\"].astype(float)\n",
    "df[\"UUC\"] = df.loc[:, \"UUC\"].astype(float)\n",
    "\n",
    "df.dtypes.head(20)"
   ]
  },
  {
   "cell_type": "markdown",
   "metadata": {},
   "source": [
    "**Zadanie 1 (1.5 punktu)**\n",
    "\n",
    "*Preprocessing danych (wzorowany na artykule)*\n",
    "\n",
    "1. Usuń wiersze mające mniej niż 1000 kodonów\n",
    "2. Usuń wiersze dla plazmidów (wartość `plm` dla królestwa)\n",
    "3. Usuń kolumny bezużyteczne dla ML: `DNAtype`, `SpeciesID`, `Ncodons`, `SpeciesName`\n",
    "4. Zakoduj klasy (kolumna `Kingdom`):\n",
    "  - 0 - archaea, `arc`\n",
    "  - 1 - bacteria, `bct`\n",
    "  - 2 - eukaryota, `pln`, `inv`, `vrt`, `mam`, `rod`, `pri`\n",
    "  - 3 - bacteriophages (phages), `phg`\n",
    "  - 4 - viruses (viral cells), `vrl`\n",
    "5. Wyodrębnij klasy jako osobną zmienną `y`. Pamiętaj o usunięciu tej kolumny z oryginalnego DataFrame'a."
   ]
  },
  {
   "cell_type": "code",
   "execution_count": 7,
   "metadata": {},
   "outputs": [],
   "source": [
    "df = df[df.Ncodons >= 1000]\n",
    "df = df[~(df.Kingdom == \"plm\")]\n",
    "df = df.drop(columns=[\"DNAtype\", \"SpeciesID\", \"Ncodons\", \"SpeciesName\"])"
   ]
  },
  {
   "cell_type": "code",
   "execution_count": 8,
   "metadata": {},
   "outputs": [],
   "source": [
    "map_kingdom = {\"Kingdom\": {\"arc\": 0, \"bct\": 1, \"phg\": 3, \"vrl\": 4}}\n",
    "\n",
    "map_kingdom2 = [\"pln\", \"inv\", \"vrt\", \"mam\", \"rod\", \"pri\"]\n",
    "\n",
    "df = df.replace(pd.DataFrame.from_dict(map_kingdom))\n",
    "df = df.replace(dict.fromkeys(map_kingdom2, 2))"
   ]
  },
  {
   "cell_type": "code",
   "execution_count": 9,
   "metadata": {},
   "outputs": [],
   "source": [
    "y = df.pop(\"Kingdom\")"
   ]
  },
  {
   "cell_type": "markdown",
   "metadata": {},
   "source": [
    "Sprawdzimy jeszcze rozkład klas:"
   ]
  },
  {
   "cell_type": "code",
   "execution_count": 10,
   "metadata": {},
   "outputs": [
    {
     "data": {
      "text/plain": [
       "Text(0.5, 1.0, 'Class frequencies in %')"
      ]
     },
     "execution_count": 10,
     "metadata": {},
     "output_type": "execute_result"
    },
    {
     "data": {
      "image/png": "[encoded data removed]",
      "text/plain": [
       "<Figure size 640x480 with 1 Axes>"
      ]
     },
     "metadata": {},
     "output_type": "display_data"
    }
   ],
   "source": [
    "class_frequencies = y.value_counts() / y.count()\n",
    "class_frequencies = class_frequencies.sort_index()\n",
    "class_frequencies.index = [\"Archaea\", \"Bacteria\", \"Eukaryota\", \"Phages\", \"Viruses\"]\n",
    "\n",
    "ax = class_frequencies.plot.bar(rot=0)\n",
    "plt.title(\"Class frequencies in %\")"
   ]
  },
  {
   "cell_type": "markdown",
   "metadata": {},
   "source": [
    "Jak widać, mamy nie tylko klasyfikację wieloklasową, ale na dodatek klasyfikację niezbalansowaną. W takim przypadku trzeba użyć odpowiednich metryk. Wzorując się na artykule, użyjemy **macro-averaged F1-score**. Jest to proste rozwinięcie F1-score na wiele klas.\n",
    "\n",
    "Dla przypomnienia, w klasyfikacji binarnej, F1-score to średnia harmoniczna precyzji (precision) i czułości (recall):\n",
    "\n",
    "$$\n",
    "F1 = \\frac{2}{recall^{-1} + precision^{-1}} = 2 * \\frac{precision * recall}{precision + recall} = \\frac{2 * TP}{2 * TP + FP + FN}\n",
    "$$\n",
    "\n",
    "Macro-averaging oznacza, że najpierw obliczamy F1-score dla każdej klasy, a później bierzemy ich średnią. Żeby taka średnia była wysoka, to musimy mieć wysoki wynik na wszystkich 5 klasach, w tym 2 mniejszościowych, więc uwzględnimy niezbalansowanie klas."
   ]
  },
  {
   "cell_type": "markdown",
   "metadata": {},
   "source": [
    "## Klasyfikator kNN"
   ]
  },
  {
   "cell_type": "markdown",
   "metadata": {},
   "source": [
    "Wytrenujemy teraz podstawowy algorytm k najbliższych sąsiadów, korzystając z samych wartości domyślnych ze Scikit-learn: 5 sąsiadów, metryka euklidesowa, brak ważenia.\n",
    "\n",
    "Zgodnie z artykułem, wykorzystamy zwykłą metodę holdout do testowania, dzieląc zbiór na treningowy i testowy w proporcjach 80%-20%. Zrobimy to ze **stratyfikacją (stratification)**, czyli tak, żeby rozkład klas był taki sam w obu podzbiorach."
   ]
  },
  {
   "cell_type": "code",
   "execution_count": 11,
   "metadata": {},
   "outputs": [],
   "source": [
    "from sklearn.model_selection import train_test_split\n",
    "\n",
    "\n",
    "X_train, X_test, y_train, y_test = train_test_split(\n",
    "    df, y, test_size=0.2, random_state=0, stratify=y\n",
    ")"
   ]
  },
  {
   "cell_type": "code",
   "execution_count": 12,
   "metadata": {},
   "outputs": [
    {
     "name": "stdout",
     "output_type": "stream",
     "text": [
      "F1 train: 92.51%\n",
      "F1 test: 91.35%\n"
     ]
    }
   ],
   "source": [
    "from sklearn.metrics import f1_score\n",
    "from sklearn.neighbors import KNeighborsClassifier\n",
    "\n",
    "\n",
    "clf = KNeighborsClassifier(n_jobs=-1)\n",
    "clf.fit(X_train, y_train)\n",
    "\n",
    "y_pred_score_train = clf.predict(X_train)\n",
    "y_pred_score_test = clf.predict(X_test)\n",
    "\n",
    "f1_train = f1_score(y_train, y_pred_score_train, average=\"macro\")\n",
    "f1_test = f1_score(y_test, y_pred_score_test, average=\"macro\")\n",
    "\n",
    "print(f\"F1 train: {100 * f1_train:.2f}%\")\n",
    "print(f\"F1 test: {100 * f1_test:.2f}%\")"
   ]
  },
  {
   "cell_type": "markdown",
   "metadata": {},
   "source": [
    "Wyniki są całkiem niezłe, ale jest jeszcze miejsce na poprawę. Być może zmiana liczby sąsiadów albo metryki, albo też dodanie ważenia sąsiadów da nam jeszcze kilka procent.\n",
    "\n",
    "W przypadku wielu klas samo agregowane F1 nie zawsze mówi jednak wszystko. Zawsze warto sprawdzić **macierz pomyłek (confusion matrix)**. Co ważne, można ją rysować albo z surową liczbą przykładów, albo znormalizować, żeby dostać wyniki w ułamku (zakres wartości 0-1). Pierwsza możliwość jest przydatna, kiedy mamy niezbalansowane klasy i patrzymy na ogólną jakość klasyfikatora. Znormalizowane wykresy są z kolei przydatne, kiedy przyglądamy się klasom z osobna."
   ]
  },
  {
   "cell_type": "code",
   "execution_count": 13,
   "metadata": {},
   "outputs": [
    {
     "data": {
      "image/png": "[encoded data removed]",
      "text/plain": [
       "<Figure size 640x480 with 2 Axes>"
      ]
     },
     "metadata": {},
     "output_type": "display_data"
    },
    {
     "data": {
      "image/png": "[encoded data removed]",
      "text/plain": [
       "<Figure size 640x480 with 2 Axes>"
      ]
     },
     "metadata": {},
     "output_type": "display_data"
    }
   ],
   "source": [
    "from sklearn.metrics import ConfusionMatrixDisplay\n",
    "\n",
    "ConfusionMatrixDisplay.from_estimator(clf, X_test, y_test)\n",
    "plt.title(\"Confusion matrix (no normalization)\")\n",
    "plt.show()\n",
    "\n",
    "\n",
    "ConfusionMatrixDisplay.from_estimator(clf, X_test, y_test, normalize=\"true\")\n",
    "plt.title(\"Confusion matrix (row-normalized)\")\n",
    "plt.show()"
   ]
  },
  {
   "cell_type": "markdown",
   "metadata": {},
   "source": [
    "Wyniki są całkiem niezłe, w końcu mamy wysokie F1. Widać jednak, że dość często mylimy klasę 0 (archeony) oraz klasę 3 (bakteriofagi) z klasą 1 (bakterie) - jest to problematyczne, ale zrozumiałe, bo tych klas jest najmniej.\n",
    "\n",
    "Po tuningu powinniśmy otrzymać lepsze wyniki. Na dobry początek sprawdzimy różną liczbę sąsiadów. Trzeba zwrócić uwagę, że jeżeli nasza metryka ma jakieś argumenty, to trzeba użyć funkcji `make_scorer` i przekazać wynik do `GridSearchCV`.\n",
    "\n",
    "Zwróć też uwagę, że skoro przekazujemy `n_jobs=-1` do klasyfikatora, to grid search dostaje `n_jobs=None`, żeby mieć tyle procesów, co rdzeni procesora. Przy okazji zmierzymy też czas tuningu."
   ]
  },
  {
   "cell_type": "code",
   "execution_count": 14,
   "metadata": {},
   "outputs": [
    {
     "name": "stdout",
     "output_type": "stream",
     "text": [
      "Optimal number of neighbors: 1\n",
      "Tuning time: 24.36 s\n",
      "F1 train: 100.00%\n",
      "F1 test: 89.16%\n"
     ]
    }
   ],
   "source": [
    "from time import time\n",
    "\n",
    "from sklearn.metrics import make_scorer\n",
    "from sklearn.model_selection import GridSearchCV\n",
    "\n",
    "\n",
    "clf = KNeighborsClassifier(n_jobs=-1)\n",
    "\n",
    "param_grid = {\n",
    "    \"n_neighbors\": list(range(1, 51)),\n",
    "}\n",
    "\n",
    "multiclass_f1 = make_scorer(\n",
    "    f1_score,\n",
    "    average=\"macro\",\n",
    "    greater_is_better=True,\n",
    ")\n",
    "\n",
    "cv = GridSearchCV(\n",
    "    estimator=clf,\n",
    "    param_grid=param_grid,\n",
    "    scoring=multiclass_f1,\n",
    "    cv=5,\n",
    ")\n",
    "\n",
    "time_start = time()\n",
    "cv.fit(X_train, y_train)\n",
    "time_end = time()\n",
    "\n",
    "print(f\"Optimal number of neighbors: {cv.best_params_['n_neighbors']}\")\n",
    "print(f\"Tuning time: {time_end - time_start:.2f} s\")\n",
    "\n",
    "y_pred_score_train = cv.predict(X_train)\n",
    "y_pred_score_test = cv.predict(X_test)\n",
    "\n",
    "f1_train = f1_score(y_train, y_pred_score_train, average=\"macro\")\n",
    "f1_test = f1_score(y_test, y_pred_score_test, average=\"macro\")\n",
    "\n",
    "print(f\"F1 train: {100 * f1_train:.2f}%\")\n",
    "print(f\"F1 test: {100 * f1_test:.2f}%\")"
   ]
  },
  {
   "cell_type": "markdown",
   "metadata": {},
   "source": [
    "Co ciekawe, po tuningu nie tylko nie mamy lepszego wyniku, ale wręcz przeuczamy bardziej! Tak się niestety zdarza - tuning opiera się na wyniku na zbiorze walidacyjnym, które nie zawsze są dobrą estymatą. Pewnym sposobem na ominięcie tego jest zmniejszenie zakresu dla hiperparametru. Tutaj wiemy, że:\n",
    "- im mniejsza liczba sąsiadów, tym większa wariancja (mocniejszy overfitting) i na odwrót\n",
    "- domyślna liczba sąsiadów to 5\n",
    "- przy 4 przeuczamy mocniej\n",
    "\n",
    "Można więc po prostu sprawdzać zakres od 5 wzwyż. Do tego czeka nas jeszcze tuning metryki i ważenia sąsiadów.\n",
    "\n",
    "**Zadanie 2 (1.5 punktu)**\n",
    "\n",
    "*Tuning kNN*\n",
    "\n",
    "1. Dokonaj tuningu: liczby sąsiadów (zakres [5, 25]), metryki (euklidesowa, Manhattan, cosinusowa) oraz ważenia sąsiadów (brak vs ważenie odległością). Jakie są optymalne wartości hiperparametrów?\n",
    "2. Zmierz czas. Czy twoim zdaniem to długo, dla zbioru, który ma ok. 10k próbek uczących?\n",
    "3. Czy macierz pomyłek dla zbioru testowego wygląda sensownie, szczególnie dla klas mniejszościowych? Czy udało się uzyskać wynik lepszy od bazowego?"
   ]
  },
  {
   "cell_type": "code",
   "execution_count": 15,
   "metadata": {},
   "outputs": [],
   "source": [
    "param_grid = {\n",
    "    \"n_neighbors\": list(range(5, 26)),\n",
    "    \"metric\": [\"euclidean\", \"manhattan\", \"cosine\"],\n",
    "    \"weights\": [\"uniform\", \"distance\"],\n",
    "}"
   ]
  },
  {
   "cell_type": "code",
   "execution_count": 16,
   "metadata": {},
   "outputs": [
    {
     "name": "stdout",
     "output_type": "stream",
     "text": [
      "Optimal params:\n",
      "number of neighbors: 6\n",
      "metric: cosine\n",
      "weights: distance\n",
      "\n",
      "Tuning time: 156.66 s\n",
      "\n",
      "F1 train: 100.00%\n",
      "F1 test: 91.53%\n"
     ]
    }
   ],
   "source": [
    "clf = KNeighborsClassifier(n_jobs=-1)\n",
    "\n",
    "cv = GridSearchCV(\n",
    "    estimator=clf,\n",
    "    param_grid=param_grid,\n",
    "    scoring=multiclass_f1,\n",
    "    cv=5,\n",
    ")\n",
    "\n",
    "time_start = time()\n",
    "cv.fit(X_train, y_train)\n",
    "time_end = time()\n",
    "\n",
    "best = cv.best_params_\n",
    "print(\n",
    "    f\"Optimal params:\\nnumber of neighbors: {best['n_neighbors']}\\nmetric: {best['metric']}\\nweights: {best['weights']}\\n\"\n",
    ")\n",
    "\n",
    "print(f\"Tuning time: {time_end - time_start:.2f} s\\n\")\n",
    "\n",
    "y_pred_score_train = cv.predict(X_train)\n",
    "y_pred_score_test = cv.predict(X_test)\n",
    "\n",
    "f1_train = f1_score(y_train, y_pred_score_train, average=\"macro\")\n",
    "f1_test = f1_score(y_test, y_pred_score_test, average=\"macro\")\n",
    "\n",
    "print(f\"F1 train: {100 * f1_train:.2f}%\")\n",
    "print(f\"F1 test: {100 * f1_test:.2f}%\")"
   ]
  },
  {
   "cell_type": "code",
   "execution_count": 17,
   "metadata": {},
   "outputs": [
    {
     "data": {
      "text/html": [
       "<style>#sk-container-id-1 {color: black;background-color: white;}#sk-container-id-1 pre{padding: 0;}#sk-container-id-1 div.sk-toggleable {background-color: white;}#sk-container-id-1 label.sk-toggleable__label {cursor: pointer;display: block;width: 100%;margin-bottom: 0;padding: 0.3em;box-sizing: border-box;text-align: center;}#sk-container-id-1 label.sk-toggleable__label-arrow:before {content: \"▸\";float: left;margin-right: 0.25em;color: #696969;}#sk-container-id-1 label.sk-toggleable__label-arrow:hover:before {color: black;}#sk-container-id-1 div.sk-estimator:hover label.sk-toggleable__label-arrow:before {color: black;}#sk-container-id-1 div.sk-toggleable__content {max-height: 0;max-width: 0;overflow: hidden;text-align: left;background-color: #f0f8ff;}#sk-container-id-1 div.sk-toggleable__content pre {margin: 0.2em;color: black;border-radius: 0.25em;background-color: #f0f8ff;}#sk-container-id-1 input.sk-toggleable__control:checked~div.sk-toggleable__content {max-height: 200px;max-width: 100%;overflow: auto;}#sk-container-id-1 input.sk-toggleable__control:checked~label.sk-toggleable__label-arrow:before {content: \"▾\";}#sk-container-id-1 div.sk-estimator input.sk-toggleable__control:checked~label.sk-toggleable__label {background-color: #d4ebff;}#sk-container-id-1 div.sk-label input.sk-toggleable__control:checked~label.sk-toggleable__label {background-color: #d4ebff;}#sk-container-id-1 input.sk-hidden--visually {border: 0;clip: rect(1px 1px 1px 1px);clip: rect(1px, 1px, 1px, 1px);height: 1px;margin: -1px;overflow: hidden;padding: 0;position: absolute;width: 1px;}#sk-container-id-1 div.sk-estimator {font-family: monospace;background-color: #f0f8ff;border: 1px dotted black;border-radius: 0.25em;box-sizing: border-box;margin-bottom: 0.5em;}#sk-container-id-1 div.sk-estimator:hover {background-color: #d4ebff;}#sk-container-id-1 div.sk-parallel-item::after {content: \"\";width: 100%;border-bottom: 1px solid gray;flex-grow: 1;}#sk-container-id-1 div.sk-label:hover label.sk-toggleable__label {background-color: #d4ebff;}#sk-container-id-1 div.sk-serial::before {content: \"\";position: absolute;border-left: 1px solid gray;box-sizing: border-box;top: 0;bottom: 0;left: 50%;z-index: 0;}#sk-container-id-1 div.sk-serial {display: flex;flex-direction: column;align-items: center;background-color: white;padding-right: 0.2em;padding-left: 0.2em;position: relative;}#sk-container-id-1 div.sk-item {position: relative;z-index: 1;}#sk-container-id-1 div.sk-parallel {display: flex;align-items: stretch;justify-content: center;background-color: white;position: relative;}#sk-container-id-1 div.sk-item::before, #sk-container-id-1 div.sk-parallel-item::before {content: \"\";position: absolute;border-left: 1px solid gray;box-sizing: border-box;top: 0;bottom: 0;left: 50%;z-index: -1;}#sk-container-id-1 div.sk-parallel-item {display: flex;flex-direction: column;z-index: 1;position: relative;background-color: white;}#sk-container-id-1 div.sk-parallel-item:first-child::after {align-self: flex-end;width: 50%;}#sk-container-id-1 div.sk-parallel-item:last-child::after {align-self: flex-start;width: 50%;}#sk-container-id-1 div.sk-parallel-item:only-child::after {width: 0;}#sk-container-id-1 div.sk-dashed-wrapped {border: 1px dashed gray;margin: 0 0.4em 0.5em 0.4em;box-sizing: border-box;padding-bottom: 0.4em;background-color: white;}#sk-container-id-1 div.sk-label label {font-family: monospace;font-weight: bold;display: inline-block;line-height: 1.2em;}#sk-container-id-1 div.sk-label-container {text-align: center;}#sk-container-id-1 div.sk-container {/* jupyter's `normalize.less` sets `[hidden] { display: none; }` but bootstrap.min.css set `[hidden] { display: none !important; }` so we also need the `!important` here to be able to override the default hidden behavior on the sphinx rendered scikit-learn.org. See: https://github.com/scikit-learn/scikit-learn/issues/21755 */display: inline-block !important;position: relative;}#sk-container-id-1 div.sk-text-repr-fallback {display: none;}</style><div id=\"sk-container-id-1\" class=\"sk-top-container\"><div class=\"sk-text-repr-fallback\"><pre>KNeighborsClassifier(metric=&#x27;cosine&#x27;, n_jobs=-1, n_neighbors=6,\n",
       "                     weights=&#x27;distance&#x27;)</pre><b>In a Jupyter environment, please rerun this cell to show the HTML representation or trust the notebook. <br />On GitHub, the HTML representation is unable to render, please try loading this page with nbviewer.org.</b></div><div class=\"sk-container\" hidden><div class=\"sk-item\"><div class=\"sk-estimator sk-toggleable\"><input class=\"sk-toggleable__control sk-hidden--visually\" id=\"sk-estimator-id-1\" type=\"checkbox\" checked><label for=\"sk-estimator-id-1\" class=\"sk-toggleable__label sk-toggleable__label-arrow\">KNeighborsClassifier</label><div class=\"sk-toggleable__content\"><pre>KNeighborsClassifier(metric=&#x27;cosine&#x27;, n_jobs=-1, n_neighbors=6,\n",
       "                     weights=&#x27;distance&#x27;)</pre></div></div></div></div></div>"
      ],
      "text/plain": [
       "KNeighborsClassifier(metric='cosine', n_jobs=-1, n_neighbors=6,\n",
       "                     weights='distance')"
      ]
     },
     "execution_count": 17,
     "metadata": {},
     "output_type": "execute_result"
    }
   ],
   "source": [
    "clf.set_params(**best)\n",
    "clf.fit(X_train, y_train)"
   ]
  },
  {
   "cell_type": "code",
   "execution_count": 18,
   "metadata": {},
   "outputs": [
    {
     "data": {
      "image/png": "[encoded data removed]",
      "text/plain": [
       "<Figure size 640x480 with 2 Axes>"
      ]
     },
     "metadata": {},
     "output_type": "display_data"
    },
    {
     "data": {
      "image/png": "[encoded data removed]",
      "text/plain": [
       "<Figure size 640x480 with 2 Axes>"
      ]
     },
     "metadata": {},
     "output_type": "display_data"
    }
   ],
   "source": [
    "ConfusionMatrixDisplay.from_estimator(clf, X_test, y_test)\n",
    "plt.title(\"Confusion matrix (no normalization)\")\n",
    "plt.show()\n",
    "\n",
    "\n",
    "ConfusionMatrixDisplay.from_estimator(clf, X_test, y_test, normalize=\"true\")\n",
    "plt.title(\"Confusion matrix (row-normalized)\")\n",
    "plt.show()"
   ]
  },
  {
   "cell_type": "markdown",
   "metadata": {},
   "source": [
    "wyniki f1 są minimalnie lepsze w porównaniu do pierwszych, lepsze w porównaniu do pierwszego tuningu, ale też przeuczamy\n",
    "\n",
    "ok. 2 minut na tuning tylu parametrów dla takiej wielkości zbioru wydaje się całkiem sensowny, kwestia czy wart poprawy o ok. 0.10% test f1 score w porównaniu do braku tuningu\n",
    "\n",
    "macierz pomyłek poprawiła się najbardziej dla przewidywania klasy 0 (archeony)"
   ]
  },
  {
   "cell_type": "markdown",
   "metadata": {},
   "source": [
    "## Approximate Nearest Neighbors (ANN)"
   ]
  },
  {
   "cell_type": "markdown",
   "metadata": {},
   "source": [
    "Postaramy się teraz przyspieszyć nasz klasyfikator, w zamian za odrobinę dokładności, za pomocą algorytmu przybliżonych najbliższych sąsiadów, a konkretnie NNDescent.\n",
    "\n",
    "Twórcy Scikit-learn'a zdawali sobie sprawę, że algorytmy znajdowania najbliższych sąsiadów to aktywne pole rozwoju, dlatego stworzyli klasę (i interfejs) `KNeighborsTransformer`, pozwalającą integrować zewnętrzne rozwiązania. Działa ona zarówno do klasyfikacji / regresji kNN, jak i do innych algorytmów opartych o sąsiedztwo, które budują graf najbliższych sąsiadów. W przypadku jego użycia trzeba podać `metric=\"precomputed\"`, bo obliczaniem odległości zajmuje się osobny algorytm.\n",
    "\n",
    "Implementacja PyNNDescent korzysta właśnie z tego rozwiązania, co gwarantuje łatwość użycia - klasa `PyNNDescentTransformer` dziedziczy po `KNeighborsTransformer`. Zobaczmy, jak to działa. Wykorzystamy funkcję `make_pipeline()`, która buduje obiekt `Pipeline`, ale nie wymaga podawania nazw kolejnych elementów.\n",
    "\n",
    "**Uwaga:** PyNNDescent dla wydajności korzysta z Numby, czyli kompilatora JIT (Just-In-Time). Dzięki temu działa to bardzo szybko, ale pierwszy import i wykonanie zajmuje sporo czasu. Wykonaj kod 2 razy - za drugim razem będzie o wiele szybciej."
   ]
  },
  {
   "cell_type": "code",
   "execution_count": 19,
   "metadata": {},
   "outputs": [],
   "source": [
    "from time import time\n",
    "\n",
    "\n",
    "def benchmark_knn_and_ann(\n",
    "    sklearn_knn,\n",
    "    pynndescent_ann,\n",
    "    X_train,\n",
    "    X_test,\n",
    "    y_train,\n",
    "    y_test,\n",
    ") -> None:\n",
    "    # training\n",
    "    start_time = time()\n",
    "    sklearn_knn.fit(X_train, y_train)\n",
    "    end_time = time()\n",
    "\n",
    "    sklearn_knn_fit_time = end_time - start_time\n",
    "\n",
    "    start_time = time()\n",
    "    pynndescent_ann.fit(X_train, y_train)\n",
    "    end_time = time()\n",
    "\n",
    "    pynndescent_ann_fit_time = end_time - start_time\n",
    "\n",
    "    # prediction\n",
    "\n",
    "    start_time = time()\n",
    "    y_pred_sklearn = sklearn_knn.predict(X_test)\n",
    "    end_time = time()\n",
    "\n",
    "    sklearn_knn_predict_time = end_time - start_time\n",
    "\n",
    "    start_time = time()\n",
    "    y_pred_pynndescent = pynndescent_ann.predict(X_test)\n",
    "    end_time = time()\n",
    "\n",
    "    pynndescent_ann_predict_time = end_time - start_time\n",
    "\n",
    "    f1_knn = f1_score(y_test, y_pred_sklearn, average=\"macro\")\n",
    "    f1_ann = f1_score(y_test, y_pred_pynndescent, average=\"macro\")\n",
    "\n",
    "    print(f\"Scikit-learn training time: {sklearn_knn_fit_time:.2f}\")\n",
    "    print(f\"PyNNDescent training time: {pynndescent_ann_fit_time:.2f}\")\n",
    "    print()\n",
    "    print(f\"Scikit-learn prediction time: {sklearn_knn_predict_time:.2f}\")\n",
    "    print(f\"PyNNDescent prediction time: {pynndescent_ann_predict_time:.2f}\")\n",
    "    print()\n",
    "    print(f\"Scikit-learn F1: {100 * f1_knn:.2f}%\")\n",
    "    print(f\"PyNNDescent F1: {100 * f1_ann:.2f}%\")"
   ]
  },
  {
   "cell_type": "code",
   "execution_count": 20,
   "metadata": {},
   "outputs": [
    {
     "name": "stdout",
     "output_type": "stream",
     "text": [
      "Scikit-learn training time: 0.00\n",
      "PyNNDescent training time: 18.09\n",
      "\n",
      "Scikit-learn prediction time: 0.10\n",
      "PyNNDescent prediction time: 0.12\n",
      "\n",
      "Scikit-learn F1: 91.35%\n",
      "PyNNDescent F1: 91.25%\n"
     ]
    }
   ],
   "source": [
    "from pynndescent import PyNNDescentTransformer\n",
    "from sklearn.pipeline import make_pipeline\n",
    "\n",
    "\n",
    "sklearn_knn = KNeighborsClassifier(metric=\"euclidean\")\n",
    "\n",
    "pynndescent_ann = make_pipeline(\n",
    "    PyNNDescentTransformer(metric=\"euclidean\", random_state=0),\n",
    "    KNeighborsClassifier(metric=\"precomputed\"),\n",
    ")\n",
    "\n",
    "benchmark_knn_and_ann(sklearn_knn, pynndescent_ann, X_train, X_test, y_train, y_test)"
   ]
  },
  {
   "cell_type": "markdown",
   "metadata": {},
   "source": [
    "Czas treningu jest dłuższy - to oczekiwany wynik. Natomiast czas predykcji jest podobny - wynika to z tego, że dla metryki euklidesowej k-d tree jest bardzo wydajne. Wynik jest bardzo podobny, więc mamy dobre przybliżenie.\n",
    "\n",
    "Sprawdźmy metrykę Manhattan, dla której typowo k-d tree radzi sobie nieco gorzej."
   ]
  },
  {
   "cell_type": "code",
   "execution_count": 21,
   "metadata": {
    "scrolled": true
   },
   "outputs": [
    {
     "name": "stdout",
     "output_type": "stream",
     "text": [
      "Scikit-learn training time: 0.00\n",
      "PyNNDescent training time: 8.50\n",
      "\n",
      "Scikit-learn prediction time: 0.31\n",
      "PyNNDescent prediction time: 0.14\n",
      "\n",
      "Scikit-learn F1: 91.39%\n",
      "PyNNDescent F1: 91.39%\n"
     ]
    }
   ],
   "source": [
    "sklearn_knn = KNeighborsClassifier(metric=\"manhattan\")\n",
    "\n",
    "pynndescent_ann = make_pipeline(\n",
    "    PyNNDescentTransformer(metric=\"manhattan\", random_state=0),\n",
    "    KNeighborsClassifier(metric=\"precomputed\"),\n",
    ")\n",
    "\n",
    "benchmark_knn_and_ann(sklearn_knn, pynndescent_ann, X_train, X_test, y_train, y_test)"
   ]
  },
  {
   "cell_type": "markdown",
   "metadata": {},
   "source": [
    "Tutaj predykcja ANN jest już wyraźnie szybsza - co prawda dane są niezbyt duże, więc nie ma to aż takiego znaczenia, ale widać potencjał skalowalności. Dodatkowo wynik jest taki sam.\n",
    "\n",
    "Różnice byłyby znacznie lepiej widoczne w algorytmach, które budują cały graf najbliższych sąsiadów. Poznamy je na laboratorium z redukcji wymiaru i selekcji cech."
   ]
  },
  {
   "cell_type": "markdown",
   "metadata": {},
   "source": [
    "## Zbiór danych - klasyfikacja danych binarnych"
   ]
  },
  {
   "cell_type": "markdown",
   "metadata": {},
   "source": [
    "Teraz zajmiemy się klasyfikacją zbioru posiadającego same zmienne binarne, do których trzeba użyć odpowiednich metryk. Konkretnie, będzie to zbiór [HIV z benchmarku MoleculeNet](https://moleculenet.org/datasets-1), w którym na podstawie reprezentacji chemicznej molekuły trzeba przewidywać, czy jest ona inhibitorem wirusa HIV. [Inhibitory](https://en.wikipedia.org/wiki/Reaction_inhibitor) to substancje przeciwne do katalizatorów - spowalniają lub uniemożliwiają jakieś zjawisko, w naszym wypadku infekcję wirusa HIV. Przewidywanie własności molekuł to kluczowe zadanie w nowoczesnym projektowaniu leków i bardzo ważne zastosowanie ML w farmacji.\n",
    "\n",
    "Zbiór jest już podzielony na treningowy, walidacyjny i testowy w ramach projektu [Open Graph Benchmark](https://ogb.stanford.edu/docs/graphprop/). Dane te można traktować jak klasyfikację grafów molekularnych, ale w naszym wypadku zostały już one przetworzone do postaci tabelarycznej algorytmem [ECFP4 fingerprint](https://docs.chemaxon.com/display/docs/extended-connectivity-fingerprint-ecfp.md#:~:text=Extended%2DConnectivity%20Fingerprints%20(ECFPs),a%20wide%20variety%20of%20applications.). Konkretnie, z molekuł wyciągnięto informacje o 1024 podgrafach, gdzie wartość zmiennej mówi, czy dana struktura występuje w molekule, czy też nie.\n",
    "\n",
    "Jako że zbiór jest binarny, to nie ma potrzeby żadnego skalowania zmiennych.\n",
    "\n",
    "W przypadku tego zbioru oficjalną metryką [w benchmarku](https://ogb.stanford.edu/docs/leader_graphprop/) jest Area Under Receiver Operating Characteristic (AUROC / ROC AUC)."
   ]
  },
  {
   "cell_type": "markdown",
   "metadata": {},
   "source": [
    "**Zadanie 3 (1 punkt)**\n",
    "\n",
    "*Ładowanie danych*\n",
    "\n",
    "1. Wczytaj zbiory treningowy, walidacyjny i testowy. Są one w postaci plików Parquet.\n",
    "2. Wyodrębnij klasę `y` do osobnych zmiennych `y_train`, `y_valid`, `y_test`.\n",
    "3. Przekonwertuj macierze `X_train`, `X_valid` i `X_test` na typ bool ([przydatne pytanie na StackOverflow](https://stackoverflow.com/questions/20373039/how-do-i-convert-a-numpy-matrix-into-a-boolean-matrix)) - tak przechowywane dane zajmują mniej miejsca.\n",
    "4. Narysuj wykres częstości klas w zbiorze treningowym. Jak sądzisz, czemu akurat AUROC zostało tutaj wybrane jako metryka?"
   ]
  },
  {
   "cell_type": "code",
   "execution_count": 22,
   "metadata": {},
   "outputs": [],
   "source": [
    "import numpy as np"
   ]
  },
  {
   "cell_type": "code",
   "execution_count": 23,
   "metadata": {},
   "outputs": [],
   "source": [
    "X_train = pd.read_parquet(\"mol_hiv_train.parquet\")\n",
    "X_valid = pd.read_parquet(\"mol_hiv_valid.parquet\")\n",
    "X_test = pd.read_parquet(\"mol_hiv_test.parquet\")\n",
    "\n",
    "y_train, y_valid, y_test = X_train.pop(\"y\"), X_valid.pop(\"y\"), X_test.pop(\"y\")\n",
    "\n",
    "X_train = np.array(X_train, dtype=bool)\n",
    "X_valid = np.array(X_valid, dtype=bool)\n",
    "X_test = np.array(X_test, dtype=bool)"
   ]
  },
  {
   "cell_type": "code",
   "execution_count": 24,
   "metadata": {
    "scrolled": false
   },
   "outputs": [
    {
     "data": {
      "image/png": "[encoded data removed]",
      "text/plain": [
       "<Figure size 640x480 with 1 Axes>"
      ]
     },
     "metadata": {},
     "output_type": "display_data"
    }
   ],
   "source": [
    "vc = y_train.value_counts()\n",
    "\n",
    "ax = vc.plot.bar(color=[\"maroon\", \"navy\"], title=\"Class occurences in training set\")\n",
    "ax.set_xlabel(\"class\")\n",
    "ax.set_ylabel(\"number of occurrences\")\n",
    "\n",
    "for container in ax.containers:\n",
    "    ax.bar_label(container)"
   ]
  },
  {
   "cell_type": "markdown",
   "metadata": {},
   "source": [
    "AUROC zostało wybrane tutaj jako metryka ponieważ jedna klasa jest wyraźnie dominująca"
   ]
  },
  {
   "cell_type": "markdown",
   "metadata": {},
   "source": [
    "**Zadanie 4 (1.5 punktu)**\n",
    "\n",
    "*Trening klasyfikatora kNN*\n",
    "\n",
    "1. Wytrenuj klasyfikator kNN z domyślnymi hiperparametrami, używając metryki Jaccarda. Zmierz AUROC na zbiorze testowym. Pamiętaj, żeby przekazać odpowiednie wartości do metryki (patrz [przykład w dokumentacji](https://scikit-learn.org/stable/modules/generated/sklearn.metrics.roc_auc_score.html)).\n",
    "2. Zmierz czas treningu oraz predykcji. Czy podczas treningu została zbudowana jakakolwiek struktura danych?\n",
    "3. Dokonaj tuningu liczby sąsiadów z zakresu [1, 5, 10]. Wykorzystaj tutaj istniejący zbiór walidacyjny z pomocą `PredefinedSplit`. Może się przydać [ta odpowiedź na StackOverflow](https://stackoverflow.com/a/70155766/9472066). Do tuningu wykorzystaj metrykę AUROC (argument `scoring`).\n",
    "4. Porównaj wyniki algorytmu po tuningu [z oficjalnym leaderboardem](https://ogb.stanford.edu/docs/leader_graphprop/)."
   ]
  },
  {
   "cell_type": "code",
   "execution_count": 25,
   "metadata": {},
   "outputs": [
    {
     "name": "stdout",
     "output_type": "stream",
     "text": [
      "AUROC kNN: 73.87261244906237 %\n",
      "\n",
      "kNN training time: 0.03 s\n",
      "kNN prediction time: 72.23 s\n"
     ]
    }
   ],
   "source": [
    "from sklearn.metrics import roc_auc_score\n",
    "\n",
    "knn = KNeighborsClassifier(metric=\"jaccard\")\n",
    "\n",
    "start_time = time()\n",
    "knn.fit(X_train, y_train)\n",
    "end_time = time()\n",
    "knn_train_time = end_time - start_time\n",
    "\n",
    "start_time = time()\n",
    "knn.predict(X_test)\n",
    "end_time = time()\n",
    "knn_pred_time = end_time - start_time\n",
    "\n",
    "print(f\"AUROC kNN: {roc_auc_score(y_test, knn.predict_proba(X_test)[:,1]) * 100} %\\n\")\n",
    "\n",
    "print(f\"kNN training time: {knn_train_time:.2f} s\")\n",
    "print(f\"kNN prediction time: {knn_pred_time:.2f} s\")"
   ]
  },
  {
   "cell_type": "markdown",
   "metadata": {},
   "source": [
    "podczas treningu nie została zbudowana żadna struktura danych"
   ]
  },
  {
   "cell_type": "code",
   "execution_count": 26,
   "metadata": {},
   "outputs": [
    {
     "name": "stdout",
     "output_type": "stream",
     "text": [
      "AUROC kNN tuned: 75.52868923694933 %\n",
      "\n"
     ]
    }
   ],
   "source": [
    "from sklearn.model_selection import PredefinedSplit\n",
    "\n",
    "knn_tuned = KNeighborsClassifier(metric=\"jaccard\")\n",
    "\n",
    "split_index = [-1] * len(X_train) + [0] * len(X_valid)\n",
    "X = np.concatenate((X_train, X_valid), axis=0)\n",
    "y = np.concatenate((y_train, y_valid), axis=0)\n",
    "pds = PredefinedSplit(test_fold=split_index)\n",
    "\n",
    "param_grid = {\"n_neighbors\": [1, 5, 10]}\n",
    "cv = GridSearchCV(\n",
    "    estimator=knn_tuned,\n",
    "    param_grid=param_grid,\n",
    "    scoring=\"roc_auc\",\n",
    "    cv=pds,\n",
    ")\n",
    "\n",
    "cv.fit(X, y)\n",
    "cv.predict(X)\n",
    "\n",
    "auroc = roc_auc_score(y_test, cv.predict_proba(X_test)[:, 1])\n",
    "print(f\"AUROC kNN tuned: {auroc * 100} %\\n\")"
   ]
  },
  {
   "cell_type": "code",
   "execution_count": 27,
   "metadata": {},
   "outputs": [
    {
     "data": {
      "text/plain": [
       "10"
      ]
     },
     "execution_count": 27,
     "metadata": {},
     "output_type": "execute_result"
    }
   ],
   "source": [
    "cv.best_params_[\"n_neighbors\"]"
   ]
  },
  {
   "cell_type": "markdown",
   "metadata": {},
   "source": [
    "wynik po tuningu minimalnie się poprawił, ale na tyle że podobne wyniki już można znaleźć w leaderboardzie, wprawdzie na końcu ale ma tylko ok. 30 miejsc więc wynik można uznać za całkiem dobry"
   ]
  },
  {
   "cell_type": "markdown",
   "metadata": {},
   "source": [
    "**Zadanie 5 (1.5 punktu)**\n",
    "\n",
    "*Klasyfikacja z metryką Jaccarda*\n",
    "\n",
    "1. Stwórz pipeline do klasyfikacji ANN z użyciem PyNNDescent. Wykorzystaj metrykę Jaccarda i znalezioną wcześniej optymalną liczbę sąsiadów.\n",
    "2. Wytrenuj zwykłe kNN oraz ANN oraz dokonaj predykcji. Zmierz czas oraz dokładność obu metod. Czy twoim zdaniem warto dokonać w tym wypadku takiej aproksymacji?"
   ]
  },
  {
   "cell_type": "code",
   "execution_count": 28,
   "metadata": {},
   "outputs": [],
   "source": [
    "knn = KNeighborsClassifier(metric=\"jaccard\", n_neighbors=cv.best_params_[\"n_neighbors\"])\n",
    "\n",
    "ann = make_pipeline(\n",
    "    PyNNDescentTransformer(metric=\"jaccard\", random_state=0),\n",
    "    KNeighborsClassifier(\n",
    "        metric=\"precomputed\", n_neighbors=cv.best_params_[\"n_neighbors\"]\n",
    "    ),\n",
    ")"
   ]
  },
  {
   "cell_type": "code",
   "execution_count": 29,
   "metadata": {},
   "outputs": [
    {
     "name": "stdout",
     "output_type": "stream",
     "text": [
      "kNN training time: 0.03\n",
      "ANN training time: 14.61\n",
      "\n",
      "kNN prediction time: 72.36\n",
      "ANN prediction time: 1.71\n",
      "\n",
      "Scikit-learn AUROC: 75.33%\n",
      "PyNNDescent AUROC: 75.05%\n"
     ]
    }
   ],
   "source": [
    "start_time = time()\n",
    "knn.fit(X_train, y_train)\n",
    "end_time = time()\n",
    "knn_train_time = end_time - start_time\n",
    "\n",
    "start_time = time()\n",
    "ann.fit(X_train, y_train)\n",
    "end_time = time()\n",
    "ann_train_time = end_time - start_time\n",
    "\n",
    "start_time = time()\n",
    "knn.predict(X_test)\n",
    "end_time = time()\n",
    "knn_pred_time = end_time - start_time\n",
    "\n",
    "start_time = time()\n",
    "ann.predict(X_test)\n",
    "end_time = time()\n",
    "ann_pred_time = end_time - start_time\n",
    "\n",
    "auroc_knn = roc_auc_score(y_test, knn.predict_proba(X_test)[:, 1])\n",
    "auroc_ann = roc_auc_score(y_test, ann.predict_proba(X_test)[:, 1])\n",
    "\n",
    "print(f\"kNN training time: {knn_train_time:.2f}\")\n",
    "print(f\"ANN training time: {ann_train_time:.2f}\")\n",
    "print()\n",
    "print(f\"kNN prediction time: {knn_pred_time:.2f}\")\n",
    "print(f\"ANN prediction time: {ann_pred_time:.2f}\")\n",
    "print()\n",
    "print(f\"Scikit-learn AUROC: {100 * auroc_knn:.2f}%\")\n",
    "print(f\"PyNNDescent AUROC: {100 * auroc_ann:.2f}%\")"
   ]
  },
  {
   "cell_type": "markdown",
   "metadata": {},
   "source": [
    "różnica w AUROC wynosi mniej niż pół procent, a sumaryczny czas treningu i predykcji dla ANN jest znacznie krótszy więc warto w tym przypadku tej aproksymacji dokonać  "
   ]
  },
  {
   "cell_type": "markdown",
   "metadata": {},
   "source": [
    "## Wyszukiwanie z pomocą najbliższych sąsiadów"
   ]
  },
  {
   "cell_type": "markdown",
   "metadata": {},
   "source": [
    "Naszym ostatnim zastosowaniem metod opartych o sąsiedztwo będzie wyszukiwanie przedmiotów. Konkretnie stworzymy wyszukiwarkę obrazów na podstawie wpisanego hasła.\n",
    "\n",
    "Jest to zadanie **multimodalne (multimodal)**, bo operujemy na dwóch różnych modalnościach: obrazie i tekście. Takie wyszukiwarki działają następująco:\n",
    "1. W fazie treningu przedmioty (obrazy) są wektoryzowane siecią neuronową i przechowywane w indeksie.\n",
    "2. Użytkownik wpisuje tekst, który jest wektoryzowany za pomocą tej samej sieci neuronowej, dlatego musi być ona multimodalna.\n",
    "3. Wyszukujemy najbliższych sąsiadów (obrazy-wektory) dla tekstu-wektora.\n",
    "\n",
    "Najbardziej znanym modelem multimodalnym jest [CLIP](https://openai.com/research/clip), stworzony przez OpenAI. Jego architektura i wagi są dostępne publicznie, w przeciwieństwie do nowych rozwiązań tej firmy. Jest to model zasadniczo niewymagający fine-tuningu, działa bardzo dobrze w podstawowej formie dla wielu zadań. Został też wykorzystany jako element modelu [DALL-E 2](https://openai.com/product/dall-e-2).\n",
    "\n",
    "Nie musisz szczegółowo wiedzieć, jak działa ten model, ale pewne podstawy są bardzo ciekawe i przydatne. Dla zainteresowanych [cały artykuł](https://cdn.openai.com/papers/Learning_Transferable_Visual_Models_From_Natural_Language.pdf) - ale ostrzegam, że jest dość zaawansowany. Wysokopoziomowo architekturę dobrze opisuje [ten artykuł](https://towardsdatascience.com/clip-the-most-influential-ai-model-from-openai-and-how-to-use-it-f8ee408958b1). CLIP składa się z dwóch enkoderów: dla tekstu i dla obrazu. Są to zwykłe pre-trenowane sieci, a konkretnie:\n",
    "1. Dla obrazu - [Visual Transformer (ViT)](https://www.v7labs.com/blog/vision-transformer-guide). Jest to architektura, która używa transformerów i atencji do przetwarzania obrazów. Ideą jest, żeby pociąć obraz na sąsiadujące kawałki (patches), i traktować je jak słowa dla atencji.\n",
    "2. Dla tekstu - [Transformer](https://machinelearningmastery.com/the-transformer-model/), z pewnymi modyfikacjami.\n",
    "\n",
    "Każda z tych sieci wektoryzuje wejście, dając embedding.\n",
    "\n",
    "![CLIP](clip.png)\n",
    "\n",
    "Zbiorem danych była kolekcja 400 milionów par (obraz, tekst), gdzie tekst opisywał zawartość obrazu. Następnie wykonano **constrastive pre-training** - model dostaje batch $N$ par (obraz, tekst) i ma przewidzieć, które z $N \\times N$ możliwych kombinacji (obraz, tekst) faktycznie wystąpiły. W tym celu maksymalizuje podobieństwo cosinusowe par, które wystąpiły w batchu, a minimalizuje podobieństwo dla $N^2 - N$ możliwych kombinacji, których nie było w batchu. W tym celu jest używana entropia krzyżowa z pewnymi modyfikacjami.\n",
    "\n",
    "Widać więc, że model jest nienadzorowany, a zbiór danych był ogromny, więc fine-tuning nie jest nam zasadniczo potrzebny. Można go użyć do klasyfikacji, ale tym nie będziemy się zajmować. Dodatkowo odpowiednią metryką odległości dla najbliższych sąsiadów będzie podobieństwo cosinusowe.\n",
    "\n",
    "Biblioteka [Sentence-Transformers](https://www.sbert.net/index.html) powstała dla różnych modeli transformerowych do zadań nienadzorowanych, ale dodano do niej także bardzo wygodny interfejs dla modelu CLIP - [przykład użycia](https://www.sbert.net/examples/applications/image-search/README.html). \n",
    "\n",
    "Jako zbiór wykorzystamy [Amazon Berkeley Objects (ABO) Dataset](https://amazon-berkeley-objects.s3.amazonaws.com/index.html) - zbiór obrazów produktów Amazona, stworzony we współpracy z University of California, Berkeley. Wykorzystamy [zminiaturyzowany zbiór](https://amazon-berkeley-objects.s3.amazonaws.com/archives/abo-images-small.tar), w którym obrazy mają rozmiar 256x256 pikseli, bo na nasze potrzeby jest zupełnie wystarczający."
   ]
  },
  {
   "cell_type": "markdown",
   "metadata": {},
   "source": [
    "**Zadanie 6 (3 punkty)**\n",
    "\n",
    "*Wyszukiwarka z ANN*\n",
    "\n",
    "1. Ściągnij [zbiór danych](https://amazon-berkeley-objects.s3.amazonaws.com/archives/abo-images-small.tar). Rozpakuj go obok tego notebooka. W katalogu `images/metadata` znajdziesz plik `images.csv.gz` - rozpakuj go obok tego notebooka, zawiera on ścieżki do obrazów.\n",
    "2. Uzupełnij kod funkcji `vectorize_images`, która oblicza embeddingi obrazów za pomocą modelu CLIP. Przyda ci się [ten tutorial](https://www.sbert.net/examples/applications/image-search/README.html). Ustaw wartość MAX_IMAGES tak, żeby wystarczyło ci RAMu i żeby proces trwał rozsądną ilość czasu (ale co najmniej kilka-kilkanaście minut). `start_idx` oraz `end_idx` to indeksy wierszy, na których w danej chwili operujemy - po prostu przesuwamy się o `BATCH_SIZE` w pętli for.\n",
    "3. Uzupełnij kod klasy `ImageSearch`:\n",
    "  - w konstruktorze stwórz indeks za pomocą klasy [NNDescent](https://pynndescent.readthedocs.io/en/latest/api.html#pynndescent.pynndescent_.NNDescent), korzystając z metryki cosinusowej i `random_state=0`, może się też przydać `n_jobs=-1`\n",
    "  - w metodzie `query` zwektoryzuj zapytanie tekstowe, a następ wyszukaj indeksy najbliższych sąsiadów-obrazów w indeksie (zwróć uwagę na to, co zwraca metoda `.query()` dla `NNDescent`), a następnie zwróć ścieżki do ich obrazów; zwróć uwagę na to, że `.query()` wymaga 2-wymiarowego wejścia, więc w naszym wypadku `(1, 512)`\n",
    "  - w metodzie `show_images` załaduj i wyświetl obrazy; może się przydać [ten przykład](https://matplotlib.org/stable/gallery/axes_grid1/simple_axesgrid.html)\n",
    "4. Przetestuj wyszukiwarkę kilkoma hasłami (metoda `.search()`). Prawdopodobnie najlepiej zadziałają hasła odpowiadające typowym produktom sprzedawanym w Amazonie.\n",
    "5. Jakie widzisz zalety i wady takiego podejścia do wyszukiwania?\n",
    "\n",
    "**Uwaga:** jeżeli masz mało RAMu lub pracujesz na Google Colab, to warto zrestartować Jupyter Notebooka, zamykając kernel. Zwolni ci to pamięć. Możesz też usunąć macierz z embeddingami (`del embeddings`) kiedy stworzysz indeks w konstruktorze `ImageSearch`."
   ]
  },
  {
   "cell_type": "code",
   "execution_count": 30,
   "metadata": {},
   "outputs": [
    {
     "data": {
      "text/plain": [
       "554       images/small/46/4689906d.png\n",
       "6614      images/small/0c/0cd7596c.jpg\n",
       "6617      images/small/e6/e602a9af.jpg\n",
       "6621      images/small/e7/e7cfeb02.jpg\n",
       "6627      images/small/68/6839db4e.jpg\n",
       "                      ...             \n",
       "398207    images/small/6d/6d49d130.jpg\n",
       "398208    images/small/b1/b163e0ea.jpg\n",
       "398209    images/small/a1/a116d9d1.jpg\n",
       "398210    images/small/9c/9c3e1158.jpg\n",
       "398211    images/small/cf/cf112e38.jpg\n",
       "Name: path, Length: 342878, dtype: object"
      ]
     },
     "execution_count": 30,
     "metadata": {},
     "output_type": "execute_result"
    }
   ],
   "source": [
    "# prepare pd.Series with paths to images\n",
    "image_paths = pd.read_csv(\"images.csv\")\n",
    "\n",
    "# \"height\" and \"width\" are original image size, let's select\n",
    "# only large ones - they are probably more interesting\n",
    "mask = (image_paths[\"height\"] >= 1000) & (image_paths[\"width\"] >= 1000)\n",
    "image_paths = image_paths.loc[mask, :]\n",
    "\n",
    "# remove columns, leaving only pd.Series with paths\n",
    "image_paths = image_paths[\"path\"]\n",
    "image_paths = \"images/small/\" + image_paths.astype(str)\n",
    "\n",
    "image_paths"
   ]
  },
  {
   "cell_type": "code",
   "execution_count": 31,
   "metadata": {},
   "outputs": [],
   "source": [
    "from itertools import islice\n",
    "\n",
    "import joblib\n",
    "import torch\n",
    "from PIL import Image\n",
    "from sentence_transformers import SentenceTransformer\n",
    "from tqdm.notebook import tqdm\n",
    "\n",
    "\n",
    "MAX_IMAGES = 1000\n",
    "BATCH_SIZE = joblib.cpu_count(only_physical_cores=True)\n",
    "\n",
    "\n",
    "def vectorize_images(image_paths: pd.Series) -> np.ndarray:\n",
    "    device = \"cuda\" if torch.cuda.is_available() else \"cpu\"\n",
    "    model = SentenceTransformer(\"clip-ViT-B-32\", device=device)\n",
    "\n",
    "    # batch iterator, based on Python itertools example\n",
    "    def batched(iterable, n: int):\n",
    "        it = iter(iterable)\n",
    "        while batch := tuple(islice(it, n)):\n",
    "            yield batch\n",
    "\n",
    "    # CLIP embeddings have 512 dimensions\n",
    "    embeddings = np.empty((MAX_IMAGES, 512))\n",
    "\n",
    "    # iterate with tqdm, it will give us a nice progress bar\n",
    "    with tqdm(total=MAX_IMAGES) as pbar:\n",
    "        start_idx = 0\n",
    "        end_idx = 0\n",
    "        for batch in batched(image_paths.iloc[:MAX_IMAGES], BATCH_SIZE):\n",
    "            # update end_idx; remember to stop at MAX_IMAGES!\n",
    "            if end_idx >= MAX_IMAGES:\n",
    "                break\n",
    "            end_idx = start_idx + BATCH_SIZE\n",
    "\n",
    "            # load images with Image.open()\n",
    "            images = [Image.open(path) for path in batch]\n",
    "\n",
    "            # calculate embeddings\n",
    "            batch_embeddings = model.encode(images, convert_to_tensor=True)\n",
    "\n",
    "            # save embeddings in the embeddings array\n",
    "            embeddings[start_idx:end_idx] = batch_embeddings.cpu().numpy()\n",
    "\n",
    "            # update start_idx\n",
    "            start_idx += BATCH_SIZE\n",
    "\n",
    "            pbar.update(BATCH_SIZE)\n",
    "\n",
    "    return embeddings"
   ]
  },
  {
   "cell_type": "code",
   "execution_count": 32,
   "metadata": {},
   "outputs": [
    {
     "name": "stderr",
     "output_type": "stream",
     "text": [
      "ftfy or spacy is not installed using BERT BasicTokenizer instead of ftfy.\n"
     ]
    },
    {
     "data": {
      "application/vnd.jupyter.widget-view+json": {
       "model_id": "2bcdd4a9e36c4b5985496fffddf8d14e",
       "version_major": 2,
       "version_minor": 0
      },
      "text/plain": [
       "  0%|          | 0/1000 [00:00<?, ?it/s]"
      ]
     },
     "metadata": {},
     "output_type": "display_data"
    }
   ],
   "source": [
    "embeddings = vectorize_images(image_paths)"
   ]
  },
  {
   "cell_type": "code",
   "execution_count": 33,
   "metadata": {},
   "outputs": [],
   "source": [
    "from pynndescent import NNDescent\n",
    "\n",
    "\n",
    "class ImageSearch:\n",
    "    def __init__(self, image_paths: pd.Series, embeddings: np.ndarray):\n",
    "        # change to Numpy array to avoid .iloc[] and just index with []\n",
    "        self.image_paths = image_paths.values\n",
    "\n",
    "        device = \"cuda\" if torch.cuda.is_available() else \"cpu\"\n",
    "        self.model = SentenceTransformer(\"clip-ViT-B-32\", device=device)\n",
    "\n",
    "        # create PyNNDescent index\n",
    "        self.index = ...\n",
    "\n",
    "    def search(self, text: str, n_neighbors: int = 9) -> None:\n",
    "        image_paths = self.query(text, n_neighbors)\n",
    "        self.show(image_paths)\n",
    "\n",
    "    def query(self, text: str, n_neighbors: int = 9) -> list[str]:\n",
    "        ...\n",
    "\n",
    "    def show(self, image_paths: list[str]) -> None:\n",
    "        ..."
   ]
  },
  {
   "cell_type": "code",
   "execution_count": 34,
   "metadata": {},
   "outputs": [
    {
     "name": "stderr",
     "output_type": "stream",
     "text": [
      "ftfy or spacy is not installed using BERT BasicTokenizer instead of ftfy.\n"
     ]
    }
   ],
   "source": [
    "image_search = ImageSearch(image_paths, embeddings)"
   ]
  },
  {
   "cell_type": "code",
   "execution_count": 35,
   "metadata": {},
   "outputs": [],
   "source": [
    "image_search.search(\"blue pillow\")"
   ]
  },
  {
   "cell_type": "markdown",
   "metadata": {},
   "source": [
    "// skomentuj tutaj"
   ]
  },
  {
   "cell_type": "markdown",
   "metadata": {},
   "source": [
    "## Zadanie dodatkowe (3 punkty)\n",
    "\n",
    "Zapoznaj się z algorytmem [Condensed Nearest Neighbors](https://en.wikipedia.org/wiki/K-nearest_neighbors_algorithm#Condensed_Nearest_Neighbor_for_data_reduction) . Jest to algorytm typu **training set reduction**, który zmniejsza rozmiar zbioru treningowego do klasyfikacji, usuwając z niego \"trywialne\" próbki. Idea jest tutaj taka, że znaczenie mają zasadniczo tylko przykłady blisko granicy decyzyjnej, a te daleko od niej są oczywiste i można by tam ograniczyć liczbę próbek, przyspieszając algorytmy najbliższych sąsiadów.\n",
    "\n",
    "Zaimplementuj algorytm Condensed Nearest Neighbors w postaci klasy kompatybilnej ze Scikit-learn, z metodami `.fit()` oraz `.transform()`. Wejściem powinny być macierz X oraz wektor y, a wyjściem zredukowane macierze, ograniczone tylko do interesujących próbek. Niestety ten algorytm jest czuły na kolejność przetwarzania próbek, dlatego ma element losowy - zaimplementuj argument `random_state` w konstruktorze i go użyj do przemieszania losowo zbioru (mogą się przydać generatory losowe z Numpy'a). Dodatkowo konstruktor powinien przyjmować argument `metric` (analogicznie do `KNeighborsClassifier`) i wykorzystywać daną metrykę jako sposób pomiaru odległości.\n",
    "\n",
    "Przetestuj algorytm na obu zbiorach używanych w tym laboratorium:\n",
    "1. Sprawdź, o ile próbek udało się zredukować zbiory treningowe.\n",
    "3. Porównaj szybkość treningu, szybkość predykcji oraz jakość wyników. Zmierz też czas wykonywania samego algorytmu Condensed Nearest Neighbors.\n",
    "4. Skomentuj, czy twoim zdaniem warto korzystać z takiego rozwiązania.\n",
    "\n",
    "Przydatne źródła:\n",
    "- [dykusja na DataScience Stack Exchange](https://datascience.stackexchange.com/questions/47097/proper-understanding-of-condensed-nearest-neighbor)\n",
    "- [prezentacja University of Leicester o kNN i CNN](http://www.math.le.ac.uk/people/ag153/homepage/KNN/OliverKNN_Presentation.pdf)\n",
    "\n",
    "Dla zainteresowanych polecam artykuły naukowe:\n",
    "\n",
    "Hart, Peter. *\"The condensed nearest neighbor rule (corresp.).\"* IEEE transactions on information theory 14.3 (1968): 515-516. [link](https://citeseerx.ist.psu.edu/document?repid=rep1&type=pdf&doi=7c3771fd6829630cf450af853df728ecd8da4ab2)\n",
    "\n",
    "Angiulli, Fabrizio. *\"Fast condensed nearest neighbor rule.\"* Proceedings of the 22nd international conference on Machine learning. 2005. [link](https://icml.cc/Conferences/2005/proceedings/papers/004_Fast_Angiulli.pdf)\n"
   ]
  },
  {
   "cell_type": "code",
   "execution_count": null,
   "metadata": {},
   "outputs": [],
   "source": []
  }
 ],
 "metadata": {
  "kernelspec": {
   "display_name": "Python 3 (ipykernel)",
   "language": "python",
   "name": "python3"
  },
  "language_info": {
   "codemirror_mode": {
    "name": "ipython",
    "version": 3
   },
   "file_extension": ".py",
   "mimetype": "text/x-python",
   "name": "python",
   "nbconvert_exporter": "python",
   "pygments_lexer": "ipython3",
   "version": "3.9.13"
  }
 },
 "nbformat": 4,
 "nbformat_minor": 1
}
